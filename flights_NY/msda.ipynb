{
 "cells": [
  {
   "cell_type": "code",
   "execution_count": null,
   "id": "519dd7af",
   "metadata": {
    "scrolled": false
   },
   "outputs": [],
   "source": [
    "import pandas as pd\n",
    "import numpy as np\n",
    "import matplotlib.pyplot as plt\n",
    "import scipy.stats as stats\n",
    "\n",
    "df =  pd.read_csv('flights_NY.csv')\n",
    "df"
   ]
  },
  {
   "cell_type": "code",
   "execution_count": null,
   "id": "6d0d6a03",
   "metadata": {},
   "outputs": [],
   "source": [
    "df.describe()"
   ]
  },
  {
   "cell_type": "markdown",
   "id": "2a1cfc4c",
   "metadata": {},
   "source": [
    "**В каких колонках есть пропущенные значения?**"
   ]
  },
  {
   "cell_type": "code",
   "execution_count": 70,
   "id": "63fd32a2",
   "metadata": {},
   "outputs": [],
   "source": [
    "for i in df:\n",
    "    if df.isna()[i].any():\n",
    "        print('В столбце', i, 'есть пропуски')"
   ]
  },
  {
   "cell_type": "markdown",
   "id": "455da3bf",
   "metadata": {},
   "source": [
    "**Сколько строк, в которых есть хотя бы одно пропущенное значение?**"
   ]
  },
  {
   "cell_type": "code",
   "execution_count": 71,
   "id": "6aeceffc",
   "metadata": {},
   "outputs": [],
   "source": [
    "count, sk_ar = 0, []\n",
    "for i in range(len(df)):\n",
    "    if df.loc[i].isna().any():\n",
    "        count += 1\n",
    "        sk_ar.append(df.loc[i])\n",
    "print(count, 'строк с пропусками')"
   ]
  },
  {
   "cell_type": "markdown",
   "id": "f8e0ced0",
   "metadata": {},
   "source": [
    " **Есть ли какая-то особенность в тех рейсах, в которых есть пропущенные значения?** "
   ]
  },
  {
   "cell_type": "code",
   "execution_count": null,
   "id": "2f9829a9",
   "metadata": {},
   "outputs": [],
   "source": [
    "df_sk = pd.DataFrame(sk_ar)\n",
    "df_sk.describe()"
   ]
  },
  {
   "cell_type": "code",
   "execution_count": null,
   "id": "fab821f4",
   "metadata": {},
   "outputs": [],
   "source": [
    "if not df_sk['air_time'].notna().any():\n",
    "    print('В любой строке с пропусками не указано время в полете')\n",
    "if not df_sk['arr_delay'].notna().any():\n",
    "    print('В любой строке с пропусками не указана задержка прибытия')\n",
    "if df['dep_delay'].mean() * 2 < df_sk['dep_delay'].mean():\n",
    "    print('В рейсах с пропусками задержка средняя задержка вылета сильно больше')"
   ]
  },
  {
   "cell_type": "markdown",
   "id": "792a75f6",
   "metadata": {},
   "source": [
    "**Удалите строки, в которых есть хотя бы одно пропущенное значение из дальнейшего анализа.**"
   ]
  },
  {
   "cell_type": "code",
   "execution_count": null,
   "id": "d7bcaac2",
   "metadata": {},
   "outputs": [],
   "source": [
    "df.dropna(inplace=True)\n",
    "df"
   ]
  },
  {
   "cell_type": "markdown",
   "id": "953d6e8b",
   "metadata": {},
   "source": [
    "**Постройте в одних осях нормированные гистограммы времени задержки вылета и прилета.** "
   ]
  },
  {
   "cell_type": "code",
   "execution_count": null,
   "id": "5a49e795",
   "metadata": {},
   "outputs": [],
   "source": [
    "plt.hist(x = df['dep_delay'], density=True, label = 'Задержка вылета')\n",
    "plt.hist(x = df['arr_delay'], density=True, label = 'Задержка прилета')\n",
    "plt.legend()\n",
    "plt.show()"
   ]
  },
  {
   "cell_type": "markdown",
   "id": "c8cf16d1",
   "metadata": {},
   "source": [
    "**Ограничьте диапазон построения гистограмм, чтобы избавиться от выбросов, и опишите характер выбросов (количество и значения).**"
   ]
  },
  {
   "cell_type": "code",
   "execution_count": null,
   "id": "a0b45a9b",
   "metadata": {},
   "outputs": [],
   "source": [
    "for x in ['arr_delay', 'dep_delay']:\n",
    "    q75, q25 = np.percentile(df.loc[:,x],[75,25])\n",
    "    intr_qr = q75 - q25\n",
    "\n",
    "    up = q75 + (1.5*intr_qr)\n",
    "    low = q25 - (1.5*intr_qr)\n",
    "    \n",
    "    print('Среднее для выбросов в меньшую сторону для', x, ':', round(df.loc[df[x] < low,x].mean()))\n",
    "    #странно брать среднее для выбросов...\n",
    "    print('Среднее для выбросов в большую сторону для', x, ':', round(df.loc[df[x] > up,x].mean()))\n",
    "    df.loc[df[x] < low,x] = np.nan\n",
    "    df.loc[df[x] > up,x] = np.nan\n",
    "    print('В', x, df[x].isnull().sum(), 'выбросов')\n",
    "df = df.dropna(axis = 0)\n",
    "plt.hist(x = df['dep_delay'], density=True, label = 'Задержка вылета')\n",
    "plt.hist(x = df['arr_delay'], density=True, label = 'Задержка прилета')\n",
    "plt.legend()\n",
    "plt.show()"
   ]
  },
  {
   "cell_type": "markdown",
   "id": "b2b4cffb",
   "metadata": {},
   "source": [
    "**Есть ли другие особенности в полученных распределениях?**"
   ]
  },
  {
   "cell_type": "code",
   "execution_count": null,
   "id": "33c599c5",
   "metadata": {},
   "outputs": [],
   "source": [
    "plt.boxplot(df['arr_delay'])\n",
    "plt.show()"
   ]
  },
  {
   "cell_type": "code",
   "execution_count": null,
   "id": "f4c78ee3",
   "metadata": {},
   "outputs": [],
   "source": [
    "plt.boxplot(df['dep_delay'])\n",
    "plt.show()"
   ]
  },
  {
   "cell_type": "markdown",
   "id": "1509c653",
   "metadata": {},
   "source": [
    "Заметим, что распределения симметричны около нуля, напоминают нормальные"
   ]
  },
  {
   "cell_type": "markdown",
   "id": "03e9aa20",
   "metadata": {},
   "source": [
    "**Оцените среднее значение, медиану и величину стандартного отклонения для времени задержки вылета и времени задержки прилета**"
   ]
  },
  {
   "cell_type": "code",
   "execution_count": null,
   "id": "b5ae9137",
   "metadata": {},
   "outputs": [],
   "source": [
    "df['dep_delay'].describe()"
   ]
  },
  {
   "cell_type": "code",
   "execution_count": null,
   "id": "3029326d",
   "metadata": {},
   "outputs": [],
   "source": [
    "df['arr_delay'].describe()"
   ]
  },
  {
   "cell_type": "markdown",
   "id": "2574f3b0",
   "metadata": {},
   "source": [
    "**Отсортируйте авиакомпании по величине средней задержки вылета и приведите среднюю задержку вылета вместе с 95%-доверительным интервалом по каждой авиакомпании. Результат представьте в виде графика.**"
   ]
  },
  {
   "cell_type": "code",
   "execution_count": null,
   "id": "a55c3d2b",
   "metadata": {},
   "outputs": [],
   "source": [
    "means = df.groupby('carrier').mean()['dep_delay'].sort_values()\n",
    "airlines = [means[means == i].index[0] for i in means]\n",
    "stds = df.groupby('carrier').std()['dep_delay']\n",
    "\n",
    "scopes = pd.Series(dtype=str,name='scopes')\n",
    "conf_iter = pd.Series(dtype=str,name='confidence_interval')\n",
    "for i in airlines:\n",
    "    n = df['carrier'].value_counts()[i]\n",
    "    se = stds[i]/(n**0.5)\n",
    "    sigma = stats.norm().isf(0.025) #(1-0.95)/2\n",
    "    scopes.loc[i] = sigma*se*2\n",
    "    conf_iter.loc[i] = [round(means[i] - sigma*se,2), round(means[i] + sigma*se,2)]\n",
    "dd_a = pd.concat([means, conf_iter], axis=1)\n",
    "dd_a"
   ]
  },
  {
   "cell_type": "code",
   "execution_count": null,
   "id": "410a9089",
   "metadata": {},
   "outputs": [],
   "source": []
  },
  {
   "cell_type": "code",
   "execution_count": null,
   "id": "112d15ec",
   "metadata": {},
   "outputs": [],
   "source": [
    "plt.plot(dd_a['dep_delay'],'.-')"
   ]
  },
  {
   "cell_type": "code",
   "execution_count": null,
   "id": "91fad10a",
   "metadata": {},
   "outputs": [],
   "source": [
    "data_dict = {}\n",
    "data_dict['category'] = airlines\n",
    "data_dict['lower'] = [i[0] for i in dd_a['confidence_interval']]\n",
    "data_dict['upper'] = [i[1] for i in dd_a['confidence_interval']]\n",
    "dataset = pd.DataFrame(data_dict)\n",
    "for lower, upper, y in zip(dataset['lower'],dataset['upper'],range(len(dataset))):\n",
    "    plt.plot((lower,upper),(y,y),'.-', color='green')\n",
    "plt.yticks(range(len(dataset)),list(dataset['category']))\n",
    "plt.show()"
   ]
  },
  {
   "cell_type": "markdown",
   "id": "e71da131",
   "metadata": {},
   "source": [
    "**Значимо ли различие в среднем времени задержки вылета для авиакомпаний American Airlines (AA) и Delta Airlines (DL)?На каком уровне значимости можно отвергнуть гипотезу о равенстве средних?**"
   ]
  },
  {
   "cell_type": "markdown",
   "id": "66502df5",
   "metadata": {},
   "source": [
    "Пусть $H_0$ - нет различия между средним временем задержки вылета для AA и DL, $\\alpha = 0.05$. Используем двусторонний t-критерий "
   ]
  },
  {
   "cell_type": "code",
   "execution_count": null,
   "id": "ce7e0b66",
   "metadata": {},
   "outputs": [],
   "source": [
    "n = df['carrier'].value_counts()['AA']\n",
    "t = (means['AA'] - means['DL']) * (n**0.5) / stds['AA']\n",
    "print('t-value', t) #как-то неприятно...\n",
    "print('p-value', stats.t.sf(abs(t), df=n-1)*2) #очень странно\n",
    "#рассмотрим для случайной выборки из 400 полетов"
   ]
  },
  {
   "cell_type": "code",
   "execution_count": null,
   "id": "ed6bf3e3",
   "metadata": {},
   "outputs": [],
   "source": [
    "num = 400\n",
    "s_means = df[df['carrier'] == 'AA'].sample(n=num, random_state=1).groupby('carrier').mean()['dep_delay']\n",
    "s_stds = df[df['carrier'] == 'AA'].sample(n=num, random_state=1).groupby('carrier').std()['dep_delay']\n",
    "t = (s_means['AA'] - means['DL']) * (num**0.5) / s_stds['AA']\n",
    "p = stats.t.sf(abs(t), df=n-1)*2\n",
    "p"
   ]
  },
  {
   "cell_type": "markdown",
   "id": "dbcecb0f",
   "metadata": {},
   "source": [
    "Различия статистически не значимы. Для выборки из 400 человек достаточно $\\alpha = 0.1 > p$ уровня значимости, чтобы считать среднее время задержки различным и отклонить нулевую гипотезу. "
   ]
  },
  {
   "cell_type": "markdown",
   "id": "62409aad",
   "metadata": {},
   "source": [
    "**Сравните между собой аэропорты вылета (JFK, LGA, EWR) с точки зрения статистики задержек вылетов. Являются ли различия статистически значимыми?**"
   ]
  },
  {
   "cell_type": "code",
   "execution_count": null,
   "id": "793fd0a4",
   "metadata": {},
   "outputs": [],
   "source": [
    "num = 400\n",
    "\n",
    "means = df.groupby('origin').mean()['dep_delay'].sort_values()\n",
    "stds = df.groupby('origin').std()['dep_delay']\n",
    "#JFK и LGA\n",
    "s_means = df[df['origin'] == 'JFK'].sample(n=num, random_state=1).groupby('origin').mean()['dep_delay']\n",
    "s_stds = df[df['origin'] == 'JFK'].sample(n=num, random_state=1).groupby('origin').std()['dep_delay']\n",
    "t = (s_means['JFK'] - means['LGA']) * (num**0.5) / s_stds['JFK']\n",
    "p_jl = stats.t.sf(abs(t), df=n-1)*2\n",
    "#JFK и EWR\n",
    "t = (s_means['JFK'] - means['EWR']) * (num**0.5) / s_stds['JFK']\n",
    "p_je = stats.t.sf(abs(t), df=n-1)*2\n",
    "#LGA и EWR\n",
    "s_means = df[df['origin'] == 'LGA'].sample(n=num, random_state=1).groupby('origin').mean()['dep_delay']\n",
    "s_stds = df[df['origin'] == 'LGA'].sample(n=num, random_state=1).groupby('origin').std()['dep_delay']\n",
    "t = (s_means['LGA'] - means['EWR']) * (num**0.5) / s_stds['LGA']\n",
    "p_le = stats.t.sf(abs(t), df=n-1)*2\n",
    "\n",
    "for i,j in zip([p_jl, p_je, p_le], ['JFK и LGA', 'JFK и EWR', 'LGA и EWR']):\n",
    "    print('Различия задержек вылетов', j, 'статитически', ''  if i < 0.05 else 'не', 'значимы')"
   ]
  },
  {
   "cell_type": "markdown",
   "id": "074abb89",
   "metadata": {},
   "source": [
    "**Каким распределением можно описать распределение времени задержки вылета в диапазоне, где время задержки вылета > 0?** "
   ]
  },
  {
   "cell_type": "code",
   "execution_count": null,
   "id": "127ff40e",
   "metadata": {},
   "outputs": [],
   "source": [
    "n = 400\n",
    "dd = df[df['dep_delay'] > 0]['dep_delay'].sample(n)\n",
    "dd.hist()\n",
    "#напоминает распределение Пуассона...проверим, используя критерий Колмогорова-Смирнова"
   ]
  },
  {
   "cell_type": "markdown",
   "id": "464116c5",
   "metadata": {},
   "source": [
    "**Предложите общий вид распределения и оцените его параметры. На одном рисунке изобразите гистограмму и график плотности аппроксимирующего распределения.**"
   ]
  },
  {
   "cell_type": "code",
   "execution_count": null,
   "id": "032b9679",
   "metadata": {},
   "outputs": [],
   "source": [
    "import math\n",
    "\n",
    "lmb = 9 #std\n",
    "exp = [round(lmb**k * math.e**((-1)*lmb) / math.factorial(k),4)*270 for k in range(20)]\n",
    "print(stats.kstest(rvs = dd, cdf = exp))\n",
    "print('Не можем отвергнуть нулевую гипотезу, распределение действительно пуассоновское')"
   ]
  },
  {
   "cell_type": "code",
   "execution_count": null,
   "id": "21df801b",
   "metadata": {},
   "outputs": [],
   "source": [
    "import seaborn as sns\n",
    "\n",
    "e = [i/270 for i in exp]\n",
    "plt.hist(e)\n",
    "sns.kdeplot(e)\n",
    "plt.show()"
   ]
  },
  {
   "cell_type": "markdown",
   "id": "8201dda1",
   "metadata": {},
   "source": [
    "**Для тех рейсов, для которых задержка вылета > 0, постройте в одних осях графики числа рейсов в месяц и среднего времени задержки в месяц.**"
   ]
  },
  {
   "cell_type": "code",
   "execution_count": null,
   "id": "3024deee",
   "metadata": {},
   "outputs": [],
   "source": [
    "dm = df[df['dep_delay'] > 0].groupby('month').mean()['dep_delay']\n",
    "df = df.assign(useless = [1] * len(df))\n",
    "nm = df[df['dep_delay'] > 0].groupby('month').sum()['useless']\n",
    "del df['useless']\n",
    "nm.rename('num_flights', inplace=True)\n",
    "plt.plot(dm, label = 'Задержка вылета')\n",
    "plt.plot(nm, label = 'Число рейсов')\n",
    "plt.legend()\n",
    "plt.show()"
   ]
  },
  {
   "cell_type": "markdown",
   "id": "d3fb0b67",
   "metadata": {},
   "source": [
    "**Найдите коэффициент корреляции между полученными значениями.** "
   ]
  },
  {
   "cell_type": "code",
   "execution_count": null,
   "id": "9aeb8f90",
   "metadata": {},
   "outputs": [],
   "source": [
    "corr = round(np.corrcoef(dm, nm)[1][0],3)\n",
    "print('Коэффициент корреляции', corr)"
   ]
  },
  {
   "cell_type": "markdown",
   "id": "12b8bece",
   "metadata": {},
   "source": [
    "**Постройте точечную диаграмму (scatterplot), показывающую зависимость между полученными значениями (по оси Х отложите число рейсов в месяц). Нанесите на график линию регрессии. Выпишите уравнение регрессии.**"
   ]
  },
  {
   "cell_type": "code",
   "execution_count": null,
   "id": "4a58491b",
   "metadata": {},
   "outputs": [],
   "source": [
    "plt.scatter(nm, dm)\n",
    " \n",
    "coef = np.polyfit(nm, dm, 1)\n",
    "poly1d_fn = np.poly1d(coef) \n",
    "\n",
    "plt.plot(nm, dm, 'yo', nm, poly1d_fn(nm), '--k')\n",
    "\n",
    "plt.show()\n",
    "x = dm.std()/nm.std()*corr\n",
    "b = dm.mean() - nm.mean()*x\n",
    "print('Уравнение линейной регреcсии: y = ', round(x,4), 'x + ', round(b,4), sep='')"
   ]
  },
  {
   "cell_type": "markdown",
   "id": "f838e267",
   "metadata": {},
   "source": [
    "**Постройте график среднего времени задержки в зависимости от часа вылета. На отдельном графике постройте долю рейсов, для которых задержка > 0, в зависимости от часа вылета. Опишите словами наблюдаемую картину.**\n"
   ]
  },
  {
   "cell_type": "code",
   "execution_count": null,
   "id": "bb40b6fd",
   "metadata": {},
   "outputs": [],
   "source": [
    "def get_hour(s):\n",
    "    s = str(int(s))\n",
    "    if len(s) == 1:\n",
    "        return 0\n",
    "    elif (len(s) == 2) or (len(s) == 3):\n",
    "        return int(s[0])\n",
    "    else:\n",
    "        if int(s[0:2]) == 24:\n",
    "            return 0\n",
    "        return int(s[0:2])\n",
    "def dh_gr(d):\n",
    "    d = d.assign(hour_dep = d['dep_time'].apply(get_hour))\n",
    "    dh = d.groupby('hour_dep').mean()['dep_delay']   \n",
    "    plt.plot(dh)\n",
    "    plt.show()\n",
    "    #return dh\n",
    "dh_gr(df[df['dep_delay'] > 0])#-dh_gr(df)\n",
    "dh_gr(df)"
   ]
  },
  {
   "cell_type": "markdown",
   "id": "6aa3c9c2",
   "metadata": {},
   "source": [
    "До четырех утра самолеты не отправляются раньше времени, в 4 утра максимальное отклонение от времени отправления, в 5 утра - минимальное, после 8 часов вечера отклонение от времени отправления растет"
   ]
  },
  {
   "cell_type": "markdown",
   "id": "a5772821",
   "metadata": {},
   "source": [
    "**Предложите способ разделить авиакомпании на пунктуальные и непунктуальные. Какие авиакомпании в какую группу попадают? Будут ли различаться группы в зависимости от дальности перелета?**\n"
   ]
  },
  {
   "cell_type": "markdown",
   "id": "dfcc20a4",
   "metadata": {},
   "source": [
    "Будем считать непунктуальными компании, среднее время задержек вылетов больше 3 квартили и размах 95% доверительного интервала больше 1. Группы не будут различаться в зависимости от дальности перелета"
   ]
  },
  {
   "cell_type": "code",
   "execution_count": null,
   "id": "e1497859",
   "metadata": {},
   "outputs": [],
   "source": [
    "m = df['dep_delay'].apply(abs).quantile(0.75)\n",
    "print('Итого непунктуальными будем считать: ', end='')\n",
    "punctual_airlines = []\n",
    "for i in airlines:\n",
    "    if (means[i] > m) and (scopes[i] > 1):\n",
    "        punctual_airlines.append(i)\n",
    "        print(i,end=' ')\n",
    "        \n",
    "#df = df.assign(punctual = [i in punctual_airlines for i in df['carrier']])\n",
    "#df"
   ]
  },
  {
   "cell_type": "markdown",
   "id": "03ec528d",
   "metadata": {},
   "source": [
    "**Предложите модель, дающую прогноз средней задержки вылета по каждому аэропорту на следующий день. Какие признаки вы будете использовать, на каких данных будете обучать (настраивать) модель, на каких тестировать? Оцените точность вашей модели. В частности, сделайте прогноз на 31 декабря 2013 года и сравните с фактическим значением (исключите эту дату из обучающей и тестовой выборки).**\n"
   ]
  },
  {
   "cell_type": "code",
   "execution_count": null,
   "id": "d3b2924e",
   "metadata": {},
   "outputs": [],
   "source": [
    "from sklearn. model_selection import train_test_split\n",
    "from sklearn. linear_model import LogisticRegression\n",
    "from sklearn import metrics\n",
    "df = df.assign(hour_dep = d['dep_time']"
   ]
  },
  {
   "cell_type": "markdown",
   "id": "dfe0ef1c",
   "metadata": {},
   "source": [
    "**Приведите еще хотя бы один интересный факт из датасета, раскрывающий или характеризующий особенности в возникновении/распределении задержек авиарейсов.**\n"
   ]
  },
  {
   "cell_type": "code",
   "execution_count": null,
   "id": "499eca87",
   "metadata": {},
   "outputs": [],
   "source": [
    "plt.figure(figsize=(12,10), dpi= 80)\n",
    "sns.heatmap(df.corr(), xticklabels=df.corr().columns, yticklabels=df.corr().columns, cmap='RdYlGn', center=0, annot=True)\n",
    "\n",
    "\n",
    "plt.xticks(fontsize=10)\n",
    "plt.yticks(fontsize=10)\n",
    "plt.show()"
   ]
  },
  {
   "cell_type": "code",
   "execution_count": null,
   "id": "eb56108b",
   "metadata": {},
   "outputs": [],
   "source": [
    "dd = df.groupby('day').mean()['dep_delay']   \n",
    "plt.plot(dd)"
   ]
  },
  {
   "cell_type": "markdown",
   "id": "e918b990",
   "metadata": {},
   "source": [
    "Заметим, что задержка отправления существенно зависит от дня вылета."
   ]
  },
  {
   "cell_type": "code",
   "execution_count": null,
   "id": "1be60b40",
   "metadata": {},
   "outputs": [],
   "source": [
    "for i in ['month','day','dep_time','dep_delay','arr_time','arr_delay','flight','air_time','distance']:\n",
    "    for j in ['month','day','dep_time','dep_delay','arr_time','arr_delay','flight','air_time','distance']:\n",
    "        if 1 >round(np.corrcoef(df[j], df[i])[1][0],3) > 0.2:\n",
    "            print(i,j, round(np.corrcoef(df[j], df[i])[1][0],3))"
   ]
  },
  {
   "cell_type": "markdown",
   "id": "b0416bd5",
   "metadata": {},
   "source": [
    "Видим, высокий уровень корреляции между задержкой вылета и задержкой прибытия, что неудивительно"
   ]
  },
  {
   "cell_type": "code",
   "execution_count": null,
   "id": "f2bd799b",
   "metadata": {},
   "outputs": [],
   "source": [
    "import matplotlib.pyplot as plt\n",
    "import numpy as np\n",
    "\n",
    "class NeuralNetwork():\n",
    "    def __init__(self, ):\n",
    "        self.inputSize = 3\n",
    "        self.outputSize = 1\n",
    "        self.hiddenSize = 3\n",
    "\n",
    "        self.W1 = np.random.rand(self.inputSize, self.hiddenSize)\n",
    "        self.W2 = np.random.rand(self.hiddenSize, self.outputSize)\n",
    "        self.limit = 0.5\n",
    "\n",
    "        self.error_list = []\n",
    "        self.true_positives = 0\n",
    "        self.false_positives = 0\n",
    "        self.true_negatives = 0\n",
    "        self.false_negatives = 0\n",
    "\n",
    "    def forward(self, X):\n",
    "        self.z = np.matmul(X, self.W1)\n",
    "        self.z2 = self.sigmoid(self.z)\n",
    "        self.z3 = np.matmul(self.z2, self.W2)\n",
    "        o = self.sigmoid(self.z3)\n",
    "        return o\n",
    "\n",
    "    def sigmoid(self, s):\n",
    "        return 1 / (1 + np.exp(-s))\n",
    "\n",
    "    def sigmoidPrime(self, s):\n",
    "        return s * (1 - s)\n",
    "\n",
    "    def backward(self, X, y, o):\n",
    "        self.o_error = y - o\n",
    "        self.o_delta = self.o_error * self.sigmoidPrime(o)\n",
    "        self.z2_error = np.matmul(self.o_delta, np.matrix.transpose(self.W2))\n",
    "        self.z2_delta = self.z2_error * self.sigmoidPrime(self.z2)\n",
    "        self.W1 += np.matmul(np.matrix.transpose(X), self.z2_delta)\n",
    "        self.W2 += np.matmul(np.matrix.transpose(self.z2), self.o_delta)\n",
    "\n",
    "    def train(self, X, y, epochs):\n",
    "        for epoch in range(epochs):\n",
    "            o = self.forward(X)\n",
    "            self.backward(X, y, o)\n",
    "            self.error_list.append(np.abs(self.o_error).mean())\n",
    "\n",
    "    def predict(self, x_predicted):\n",
    "        return self.forward(x_predicted).item()\n",
    "\n",
    "    def view_error_development(self):\n",
    "        plt.plot(range(len(self.error_list)), self.error_list)\n",
    "        plt.title('Mean Sum Squared Loss')\n",
    "        plt.xlabel('Epoch')\n",
    "        plt.ylabel('Loss')\n",
    "\n",
    "    def test_evaluation(self, input_test, output_test):\n",
    "        for i, test_element in enumerate(input_test):\n",
    "            if self.predict(test_element) > self.limit and output_test[i] == 1:\n",
    "                self.true_positives += 1\n",
    "            if self.predict(test_element) < self.limit and output_test[i] == 1:\n",
    "                self.false_negatives += 1\n",
    "            if self.predict(test_element) > self.limit and output_test[i] == 0:\n",
    "                self.false_positives += 1\n",
    "            if self.predict(test_element) < self.limit and output_test[i] == 0:\n",
    "                self.true_negatives += 1\n",
    "        print('True positives: ', self.true_positives, '\\nTrue negatives: ', self.true_negatives,\n",
    "              '\\nFalse positives: ', self.false_positives, '\\nFalse negatives: ', self.false_negatives,\n",
    "              '\\nAccuracy: ', (self.true_positives + self.true_negatives) /\n",
    "              (self.true_positives + self.true_negatives + self.false_positives + self.false_negatives))"
   ]
  }
 ],
 "metadata": {
  "kernelspec": {
   "display_name": "Python 3 (ipykernel)",
   "language": "python",
   "name": "python3"
  },
  "language_info": {
   "codemirror_mode": {
    "name": "ipython",
    "version": 3
   },
   "file_extension": ".py",
   "mimetype": "text/x-python",
   "name": "python",
   "nbconvert_exporter": "python",
   "pygments_lexer": "ipython3",
   "version": "3.8.10"
  }
 },
 "nbformat": 4,
 "nbformat_minor": 5
}
